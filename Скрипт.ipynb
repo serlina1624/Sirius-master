{
 "cells": [
  {
   "cell_type": "raw",
   "id": "e7ef1916-5f24-41f5-8473-59aa754db1ee",
   "metadata": {},
   "source": [
    "# 1. обрезаем адаптеры. \n",
    "import os\n",
    "curpath = os.path.abspath(os.path.curdir) # зафиксируем папку    \n",
    "files_fastq_list = [x for x in os.listdir(curpath) if x.startswith(\"IonXpress_\")] # endswith - кончается на (можно так сделать для начала)\n",
    "with open (\"Barcodes.fasta\", 'r') as file:\n",
    "    for line in file: \n",
    "        if line.startswith(\">\"):\n",
    "            line = line[1:-1]\n",
    "            for fastq in files_fastq_list:\n",
    "                if line in fastq:\n",
    "                    adapter = file.readline()[:-1]\n",
    "                    os.system('cutadapt -a {0:s} -q 20 -o Non_adapters_{1:s} {1:s}'.format(adapter, fastq))\n"
   ]
  },
  {
   "cell_type": "raw",
   "id": "eb8e6779-580d-4d2a-8249-65e0371dee77",
   "metadata": {},
   "source": [
    "# 2.  конвертирование общего пула ридов из fasq -> fasta\n",
    "from Bio import SeqIO\n",
    "\n",
    "records = SeqIO.parse(\"All_spicies.fastq\", \"fastq\")\n",
    "count = SeqIO.write(records, \"All_spicies.fasta\", \"fasta\")\n",
    "#print(\"Converted %i records\" % count)"
   ]
  },
  {
   "cell_type": "raw",
   "id": "703a5806-052b-4c0e-8818-4b34a42b6132",
   "metadata": {},
   "source": [
    "# 4. вытаскиваем из файла UCE_in_Trinity.outfmt6 те контиги, которые будут референсами\n",
    "refs = {}\n",
    "with open('../UCE_in_Trinity.outfmt6', 'r') as file:\n",
    "    for line in file:\n",
    "        refs[line[line.find('\\t') + 1:line.find('\\t',line.find('\\t')+1)]] = line[:line.find('\\t')]\n",
    "\n",
    "with open('../Trinity.fasta', 'r') as trin:\n",
    "    with open('../Trinity_copy.fasta', 'w') as trin1:\n",
    "        for line in trin:\n",
    "            if not line.startswith('>'):\n",
    "                trin1.write(line.replace('\\n',''))\n",
    "            else:\n",
    "                trin1.write('\\n' + line.replace('\\n', '\\t'))\n",
    "                \n",
    "for value, key in refs.items():\n",
    "    with open('{0:s}.fasta'.format(key), 'a') as out:\n",
    "        with open('../Trinity_copy.fasta', 'r') as trin:\n",
    "            for i, line in enumerate(trin):\n",
    "                if value in line:\n",
    "                    try:\n",
    "                        out.write('>' + str(i) + ' contig ' + key + '\\n' + line[line.find('\\t') +1:])\n",
    "                    except IndexError:\n",
    "                        continue"
   ]
  },
  {
   "cell_type": "raw",
   "id": "42fb081b-f7fa-4f59-adb6-f02314d1b54e",
   "metadata": {},
   "source": [
    "# 6 фаста файлы с кластерами \n",
    "UCE_pull = [4, 99, 256, 363, 514, 536, 1087, 1105]\n",
    "for uce_num in UCE_pull:\n",
    "\n",
    "    try:\n",
    "        seq_num = {}\n",
    "        with open('cluster_uce-{0:s}.fasta.clstr'.format(str(uce_num)), 'r') as clstr:\n",
    "            for line in clstr:\n",
    "                if line.startswith('>'):\n",
    "                    cluster_num = line[1:].replace('\\n','').replace(' ', '_')\n",
    "                if not line.startswith('>'):\n",
    "                    seq_num[(line[line.find('>') + 1: line.find('.')])] = cluster_num\n",
    "    except: FileNotFoundError\n",
    "    \n",
    "    try: \n",
    "        with open('uce-{0:s}.fasta'.format(str(uce_num)), 'r') as uce:\n",
    "            line1 = uce.readline()\n",
    "            for key, value in seq_num.items():\n",
    "                with open('{0:s}'.format('uce-{0:s}_'.format(str(uce_num)) + value + '.fasta'), 'a') as out:\n",
    "                    if line1.startswith('>'):\n",
    "                        if line1[1:line1.find(' ')] in seq_num.keys():\n",
    "                            out.write(line1)\n",
    "                            line1 = uce.readline()\n",
    "                            out.write(line1)\n",
    "                            line1 = uce.readline()     \n",
    "    except: FileNotFoundError\n",
    "                        \n",
    "\n",
    "            "
   ]
  },
  {
   "cell_type": "raw",
   "id": "b862d445-b8a3-46a3-ad10-c08d433d0f5c",
   "metadata": {},
   "source": [
    "#7 записываем все референсы прямо из contigs и singlets\n",
    "import os\n",
    "UCE_pull = [4, 709]\n",
    "clst_pull = [0, 1, 2, 3, 4, 5, 6]\n",
    "with open('All_refs.fasta', 'a') as ref:\n",
    "    for uce_num in UCE_pull:\n",
    "        for clst_num in clst_pull:\n",
    "            try:\n",
    "                isempty = os.stat('uce-{0:s}_Cluster_{1:s}.fasta.cap.contigs'.format(str(uce_num), str(clst_num))).st_size == 0\n",
    "                if isempty == False:\n",
    "                    with open('uce-{0:s}_Cluster_{1:s}.fasta.cap.contigs'.format(str(uce_num), str(clst_num)), 'r') as contig: \n",
    "                        for line in contig:\n",
    "                            if line.startswith('>'): # проверка на названия контига\n",
    "                                ref.writelines('>UCE{0:s}_Claster_{1:s}_'.format(str(uce_num), str(clst_num)) + line[1:]) # записываем название контига и его uce\n",
    "                            else:\n",
    "                                ref.writelines(line)\n",
    "\n",
    "\n",
    "                else:\n",
    "                    with open('uce-{0:s}_Cluster_{1:s}.fasta.cap.singlets'.format(str(uce_num), str(clst_num)), 'r') as contig:\n",
    "                        contig_number = 0\n",
    "                        for line in contig:\n",
    "                            if line.startswith('>'): # проверка на названия контига\n",
    "                                contig_number += 1\n",
    "                                ref.writelines('>UCE{0:s}_Claster_{1:s}_Contig{2:s}'.format(str(uce_num), str(clst_num), str(contig_number)) + \"\\n\") # записываем название контига и его uce\n",
    "                            else:\n",
    "                                ref.writelines(line)\n",
    "\n",
    "            except: FileNotFoundError\n"
   ]
  },
  {
   "cell_type": "raw",
   "id": "fe61eb33-3602-463c-8b8e-3b485c78da95",
   "metadata": {},
   "source": [
    "# 10. Переименование названий, одинаковые имена для таксонов. (библиотек, видов)\n",
    "import os \n",
    "curpath = os.path.abspath(os.path.curdir) # зафиксируем папку \n",
    "files_fasta_list = [x for x in os.listdir(curpath) if x.startswith(\"mafft_\")] # список видов\n",
    "for file in files_fasta_list:\n",
    "    with open(file, 'r') as UCE:\n",
    "        with open(file[6:], 'a') as out:\n",
    "            for line in UCE:\n",
    "                if line.startswith(\">\"):\n",
    "                    out.write(\">\" + line[-7:])\n",
    "                    line = UCE.readline()\n",
    "                out.write(line)"
   ]
  },
  {
   "cell_type": "code",
   "execution_count": null,
   "id": "a8a1cf52-7a41-4ffa-8a7e-5cd3d1466885",
   "metadata": {},
   "outputs": [],
   "source": []
  }
 ],
 "metadata": {
  "kernelspec": {
   "display_name": "Python 3 (ipykernel)",
   "language": "python",
   "name": "python3"
  },
  "language_info": {
   "codemirror_mode": {
    "name": "ipython",
    "version": 3
   },
   "file_extension": ".py",
   "mimetype": "text/x-python",
   "name": "python",
   "nbconvert_exporter": "python",
   "pygments_lexer": "ipython3",
   "version": "3.11.4"
  }
 },
 "nbformat": 4,
 "nbformat_minor": 5
}
