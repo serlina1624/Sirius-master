{
 "cells": [
  {
   "cell_type": "code",
   "execution_count": 1,
   "id": "b5108dfb-4807-465d-8405-e528743a2877",
   "metadata": {},
   "outputs": [],
   "source": [
    "import sys\n",
    "import os\n",
    "import gzip\n",
    "import re\n",
    "import matplotlib.pyplot as plt\n",
    "import numpy as np\n",
    "import pysam\n",
    "import Bio\n",
    "import pandas as pd\n",
    "from Bio import SeqIO"
   ]
  },
  {
   "cell_type": "code",
   "execution_count": 4,
   "id": "ed272b17-1066-4069-80e0-32c5c352f5da",
   "metadata": {},
   "outputs": [
    {
     "ename": "SyntaxError",
     "evalue": "invalid syntax (2524917848.py, line 11)",
     "output_type": "error",
     "traceback": [
      "\u001b[0;36m  Input \u001b[0;32mIn [4]\u001b[0;36m\u001b[0m\n\u001b[0;31m    data = pd.read_csv((path_sam_list[i], sep = '\\t',header=None, usecols=[0,3,9,5,1,2])\u001b[0m\n\u001b[0m                                              ^\u001b[0m\n\u001b[0;31mSyntaxError\u001b[0m\u001b[0;31m:\u001b[0m invalid syntax\n"
     ]
    }
   ],
   "source": [
    "class SAM(object):\n",
    "    '''Класс для парсинга SAM файлов'''\n",
    "    def __init__(self, name, Flag, ref_name, start, CIGAR, read): # задаем объект, где как атрибуты будут имя рида, флаг и тд\n",
    "        \n",
    "        curpath = os.path.abspath(os.path.curdir) # зафиксируем папку\n",
    "        files_sam_list = [x for x in os.listdir(curpath) if x.startswith(\"cart_sam\")] # endswith - кончается на (можно так сделать для начала)\n",
    "        path_sam_list = [os.path.join(curpath, x) for x in files_sam_list] # сделали путь ко всем sam файлам\n",
    "        \n",
    "        all_data = []\n",
    "        for i in range(len(path_sam_list)):\n",
    "            data = pd.read_csv((path_sam_list[i], sep = '\\t',header=None, usecols=[0,3,9,5,1,2])\n",
    "            data.columns = ['Название рида','Flag','Ref','Начало рида', 'CIGAR','Рид']\n",
    "            data = data.loc[data['Flag'] != 2048] # чистка по флагам\n",
    "            self.name = data.iloc[i][0]\n",
    "            self.Flag = data.iloc[i][1]\n",
    "            self.ref_name = data.iloc[i][2]\n",
    "            self.start = data.iloc[i][3]\n",
    "            self.CIGAR = data.iloc[i][4]\n",
    "            self.read = data.iloc[i][5]\n",
    "            all_data.append(data)"
   ]
  },
  {
   "cell_type": "code",
   "execution_count": null,
   "id": "2a5924a9-4507-4c35-905c-60966f42faad",
   "metadata": {},
   "outputs": [],
   "source": []
  }
 ],
 "metadata": {
  "kernelspec": {
   "display_name": "Python 3 (ipykernel)",
   "language": "python",
   "name": "python3"
  },
  "language_info": {
   "codemirror_mode": {
    "name": "ipython",
    "version": 3
   },
   "file_extension": ".py",
   "mimetype": "text/x-python",
   "name": "python",
   "nbconvert_exporter": "python",
   "pygments_lexer": "ipython3",
   "version": "3.9.12"
  }
 },
 "nbformat": 4,
 "nbformat_minor": 5
}
